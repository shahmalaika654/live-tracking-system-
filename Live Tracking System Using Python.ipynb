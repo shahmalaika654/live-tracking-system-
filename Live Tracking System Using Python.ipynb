{
 "cells": [
  {
   "cell_type": "markdown",
   "id": "69962c89",
   "metadata": {},
   "source": [
    "# Live Tracking System Using Python & Folium\n",
    "# Yuaan Hussain Raheem"
   ]
  },
  {
   "cell_type": "markdown",
   "id": "3cb8fc4c",
   "metadata": {},
   "source": [
    "## Description:\n",
    "\n",
    "**This Jupyter Notebook contains Python code for a trip tracking system. It uses various libraries, including Pandas and Folium, to visualize trip data, identify over-speeding segments, and create an interactive map. The code processes trip data from a CSV file, extracts relevant information, and plots it on a map. Continuous over-speeding segments are highlighted to provide insights into the trip.**"
   ]
  },
  {
   "cell_type": "markdown",
   "id": "88b0d32d",
   "metadata": {},
   "source": [
    "## Importing necessary libraries"
   ]
  },
  {
   "cell_type": "code",
   "execution_count": 1,
   "id": "e7df8ef6",
   "metadata": {},
   "outputs": [],
   "source": [
    "import pandas as pd\n",
    "import folium\n",
    "from folium.plugins import AntPath"
   ]
  },
  {
   "cell_type": "markdown",
   "id": "d4c585ea",
   "metadata": {},
   "source": [
    "## Load trip data from a CSV file"
   ]
  },
  {
   "cell_type": "code",
   "execution_count": 2,
   "id": "74b3aaa3",
   "metadata": {},
   "outputs": [],
   "source": [
    "trip_data = pd.read_csv(\"final_dataset.csv\")"
   ]
  },
  {
   "cell_type": "markdown",
   "id": "0b316966",
   "metadata": {},
   "source": [
    "## Pre-processing the Dataset"
   ]
  },
  {
   "cell_type": "code",
   "execution_count": 3,
   "id": "0cc9b6da",
   "metadata": {},
   "outputs": [],
   "source": [
    "trip_data[\"Date Time\"] = pd.to_datetime(trip_data[\"Date Time\"])"
   ]
  },
  {
   "cell_type": "code",
   "execution_count": 4,
   "id": "7633785e",
   "metadata": {},
   "outputs": [],
   "source": [
    "trip_data = trip_data.sort_values(\"Date Time\", ignore_index = True)"
   ]
  },
  {
   "cell_type": "code",
   "execution_count": 5,
   "id": "37cf4d84",
   "metadata": {},
   "outputs": [],
   "source": [
    "trip_group = trip_data.groupby(\"Trip\")"
   ]
  },
  {
   "cell_type": "code",
   "execution_count": 6,
   "id": "1f3c40e7",
   "metadata": {},
   "outputs": [],
   "source": [
    "trip = trip_group.get_group(106)"
   ]
  },
  {
   "cell_type": "code",
   "execution_count": 7,
   "id": "85530605",
   "metadata": {},
   "outputs": [
    {
     "data": {
      "text/html": [
       "<div>\n",
       "<style scoped>\n",
       "    .dataframe tbody tr th:only-of-type {\n",
       "        vertical-align: middle;\n",
       "    }\n",
       "\n",
       "    .dataframe tbody tr th {\n",
       "        vertical-align: top;\n",
       "    }\n",
       "\n",
       "    .dataframe thead th {\n",
       "        text-align: right;\n",
       "    }\n",
       "</style>\n",
       "<table border=\"1\" class=\"dataframe\">\n",
       "  <thead>\n",
       "    <tr style=\"text-align: right;\">\n",
       "      <th></th>\n",
       "      <th>Date Time</th>\n",
       "      <th>Status</th>\n",
       "      <th>Speed(Km/h)</th>\n",
       "      <th>Latitude</th>\n",
       "      <th>Longitude</th>\n",
       "      <th>Reference</th>\n",
       "      <th>Mileage</th>\n",
       "      <th>Geo_Fencing</th>\n",
       "      <th>route</th>\n",
       "      <th>speed_diff</th>\n",
       "      <th>harsh_breaking</th>\n",
       "      <th>harsh_acceleration</th>\n",
       "      <th>Trip</th>\n",
       "      <th>over_speeding</th>\n",
       "    </tr>\n",
       "  </thead>\n",
       "  <tbody>\n",
       "    <tr>\n",
       "      <th>27065</th>\n",
       "      <td>2023-02-08 09:53:47</td>\n",
       "      <td>Ignition On</td>\n",
       "      <td>0</td>\n",
       "      <td>28.92011</td>\n",
       "      <td>70.62502</td>\n",
       "      <td>0.00 Km From Zahir Pir Service Area-South, Dr....</td>\n",
       "      <td>311</td>\n",
       "      <td>{'place_id': 249117431, 'licence': 'Data © Ope...</td>\n",
       "      <td>1</td>\n",
       "      <td>0.0</td>\n",
       "      <td>0</td>\n",
       "      <td>0</td>\n",
       "      <td>106</td>\n",
       "      <td>0</td>\n",
       "    </tr>\n",
       "    <tr>\n",
       "      <th>27066</th>\n",
       "      <td>2023-02-08 09:53:52</td>\n",
       "      <td>Normal</td>\n",
       "      <td>0</td>\n",
       "      <td>28.92011</td>\n",
       "      <td>70.62502</td>\n",
       "      <td>0.00 Km From Zahir Pir Service Area-South, Dr....</td>\n",
       "      <td>311</td>\n",
       "      <td>{'place_id': 249117431, 'licence': 'Data © Ope...</td>\n",
       "      <td>1</td>\n",
       "      <td>0.0</td>\n",
       "      <td>0</td>\n",
       "      <td>0</td>\n",
       "      <td>106</td>\n",
       "      <td>0</td>\n",
       "    </tr>\n",
       "    <tr>\n",
       "      <th>27067</th>\n",
       "      <td>2023-02-08 09:53:57</td>\n",
       "      <td>Normal</td>\n",
       "      <td>0</td>\n",
       "      <td>28.92011</td>\n",
       "      <td>70.62502</td>\n",
       "      <td>0.00 Km From Zahir Pir Service Area-South, Dr....</td>\n",
       "      <td>311</td>\n",
       "      <td>{'place_id': 249117431, 'licence': 'Data © Ope...</td>\n",
       "      <td>1</td>\n",
       "      <td>0.0</td>\n",
       "      <td>0</td>\n",
       "      <td>0</td>\n",
       "      <td>106</td>\n",
       "      <td>0</td>\n",
       "    </tr>\n",
       "    <tr>\n",
       "      <th>27068</th>\n",
       "      <td>2023-02-08 09:54:02</td>\n",
       "      <td>Normal</td>\n",
       "      <td>0</td>\n",
       "      <td>28.92011</td>\n",
       "      <td>70.62502</td>\n",
       "      <td>0.00 Km From Zahir Pir Service Area-South, Dr....</td>\n",
       "      <td>311</td>\n",
       "      <td>{'place_id': 249117431, 'licence': 'Data © Ope...</td>\n",
       "      <td>1</td>\n",
       "      <td>0.0</td>\n",
       "      <td>0</td>\n",
       "      <td>0</td>\n",
       "      <td>106</td>\n",
       "      <td>0</td>\n",
       "    </tr>\n",
       "    <tr>\n",
       "      <th>27069</th>\n",
       "      <td>2023-02-08 09:54:07</td>\n",
       "      <td>Normal</td>\n",
       "      <td>0</td>\n",
       "      <td>28.92011</td>\n",
       "      <td>70.62502</td>\n",
       "      <td>0.00 Km From Zahir Pir Service Area-South, Dr....</td>\n",
       "      <td>311</td>\n",
       "      <td>{'place_id': 249117431, 'licence': 'Data © Ope...</td>\n",
       "      <td>1</td>\n",
       "      <td>0.0</td>\n",
       "      <td>0</td>\n",
       "      <td>0</td>\n",
       "      <td>106</td>\n",
       "      <td>0</td>\n",
       "    </tr>\n",
       "  </tbody>\n",
       "</table>\n",
       "</div>"
      ],
      "text/plain": [
       "                Date Time       Status  Speed(Km/h)  Latitude  Longitude  \\\n",
       "27065 2023-02-08 09:53:47  Ignition On            0  28.92011   70.62502   \n",
       "27066 2023-02-08 09:53:52       Normal            0  28.92011   70.62502   \n",
       "27067 2023-02-08 09:53:57       Normal            0  28.92011   70.62502   \n",
       "27068 2023-02-08 09:54:02       Normal            0  28.92011   70.62502   \n",
       "27069 2023-02-08 09:54:07       Normal            0  28.92011   70.62502   \n",
       "\n",
       "                                               Reference  Mileage  \\\n",
       "27065  0.00 Km From Zahir Pir Service Area-South, Dr....      311   \n",
       "27066  0.00 Km From Zahir Pir Service Area-South, Dr....      311   \n",
       "27067  0.00 Km From Zahir Pir Service Area-South, Dr....      311   \n",
       "27068  0.00 Km From Zahir Pir Service Area-South, Dr....      311   \n",
       "27069  0.00 Km From Zahir Pir Service Area-South, Dr....      311   \n",
       "\n",
       "                                             Geo_Fencing  route  speed_diff  \\\n",
       "27065  {'place_id': 249117431, 'licence': 'Data © Ope...      1         0.0   \n",
       "27066  {'place_id': 249117431, 'licence': 'Data © Ope...      1         0.0   \n",
       "27067  {'place_id': 249117431, 'licence': 'Data © Ope...      1         0.0   \n",
       "27068  {'place_id': 249117431, 'licence': 'Data © Ope...      1         0.0   \n",
       "27069  {'place_id': 249117431, 'licence': 'Data © Ope...      1         0.0   \n",
       "\n",
       "       harsh_breaking  harsh_acceleration  Trip  over_speeding  \n",
       "27065               0                   0   106              0  \n",
       "27066               0                   0   106              0  \n",
       "27067               0                   0   106              0  \n",
       "27068               0                   0   106              0  \n",
       "27069               0                   0   106              0  "
      ]
     },
     "execution_count": 7,
     "metadata": {},
     "output_type": "execute_result"
    }
   ],
   "source": [
    "trip.head()"
   ]
  },
  {
   "cell_type": "markdown",
   "id": "2bb5d363",
   "metadata": {},
   "source": [
    "## Extract latitude and longitude data from the trip route"
   ]
  },
  {
   "cell_type": "code",
   "execution_count": 8,
   "id": "a85cf8e0",
   "metadata": {},
   "outputs": [],
   "source": [
    "trip_route = trip[[\"Latitude\",\"Longitude\"]]\n",
    "Latitude = trip_route[\"Latitude\"].values\n",
    "Longitude = trip_route[\"Longitude\"].values"
   ]
  },
  {
   "cell_type": "code",
   "execution_count": 9,
   "id": "7b98d9a9",
   "metadata": {},
   "outputs": [
    {
     "data": {
      "text/plain": [
       "array([70.62502, 70.62502, 70.62502, ..., 68.93644, 68.93644, 68.93644])"
      ]
     },
     "execution_count": 9,
     "metadata": {},
     "output_type": "execute_result"
    }
   ],
   "source": [
    "Longitude"
   ]
  },
  {
   "cell_type": "markdown",
   "id": "aefc49e2",
   "metadata": {},
   "source": [
    "## Filter locations where over-speeding occurred"
   ]
  },
  {
   "cell_type": "code",
   "execution_count": 10,
   "id": "0473aef6",
   "metadata": {},
   "outputs": [],
   "source": [
    "# Over-Speeding\n",
    "\n",
    "over_speeding_location = trip.loc[trip[\"over_speeding\"] == 1,[\"Latitude\",\"Longitude\"]]"
   ]
  },
  {
   "cell_type": "code",
   "execution_count": 11,
   "id": "240da223",
   "metadata": {},
   "outputs": [
    {
     "data": {
      "text/plain": [
       "(544, 2)"
      ]
     },
     "execution_count": 11,
     "metadata": {},
     "output_type": "execute_result"
    }
   ],
   "source": [
    "over_speeding_location.shape"
   ]
  },
  {
   "cell_type": "code",
   "execution_count": 12,
   "id": "66b4b786",
   "metadata": {},
   "outputs": [
    {
     "data": {
      "text/html": [
       "<div>\n",
       "<style scoped>\n",
       "    .dataframe tbody tr th:only-of-type {\n",
       "        vertical-align: middle;\n",
       "    }\n",
       "\n",
       "    .dataframe tbody tr th {\n",
       "        vertical-align: top;\n",
       "    }\n",
       "\n",
       "    .dataframe thead th {\n",
       "        text-align: right;\n",
       "    }\n",
       "</style>\n",
       "<table border=\"1\" class=\"dataframe\">\n",
       "  <thead>\n",
       "    <tr style=\"text-align: right;\">\n",
       "      <th></th>\n",
       "      <th>Latitude</th>\n",
       "      <th>Longitude</th>\n",
       "    </tr>\n",
       "  </thead>\n",
       "  <tbody>\n",
       "    <tr>\n",
       "      <th>27197</th>\n",
       "      <td>28.88708</td>\n",
       "      <td>70.58680</td>\n",
       "    </tr>\n",
       "    <tr>\n",
       "      <th>27217</th>\n",
       "      <td>28.87344</td>\n",
       "      <td>70.55904</td>\n",
       "    </tr>\n",
       "    <tr>\n",
       "      <th>27218</th>\n",
       "      <td>28.87314</td>\n",
       "      <td>70.55843</td>\n",
       "    </tr>\n",
       "    <tr>\n",
       "      <th>27219</th>\n",
       "      <td>28.87268</td>\n",
       "      <td>70.55751</td>\n",
       "    </tr>\n",
       "    <tr>\n",
       "      <th>27220</th>\n",
       "      <td>28.87222</td>\n",
       "      <td>70.55656</td>\n",
       "    </tr>\n",
       "    <tr>\n",
       "      <th>...</th>\n",
       "      <td>...</td>\n",
       "      <td>...</td>\n",
       "    </tr>\n",
       "    <tr>\n",
       "      <th>28862</th>\n",
       "      <td>27.69209</td>\n",
       "      <td>68.98846</td>\n",
       "    </tr>\n",
       "    <tr>\n",
       "      <th>28863</th>\n",
       "      <td>27.69136</td>\n",
       "      <td>68.98782</td>\n",
       "    </tr>\n",
       "    <tr>\n",
       "      <th>28864</th>\n",
       "      <td>27.69038</td>\n",
       "      <td>68.98695</td>\n",
       "    </tr>\n",
       "    <tr>\n",
       "      <th>28865</th>\n",
       "      <td>27.68966</td>\n",
       "      <td>68.98631</td>\n",
       "    </tr>\n",
       "    <tr>\n",
       "      <th>28902</th>\n",
       "      <td>27.66309</td>\n",
       "      <td>68.94477</td>\n",
       "    </tr>\n",
       "  </tbody>\n",
       "</table>\n",
       "<p>544 rows × 2 columns</p>\n",
       "</div>"
      ],
      "text/plain": [
       "       Latitude  Longitude\n",
       "27197  28.88708   70.58680\n",
       "27217  28.87344   70.55904\n",
       "27218  28.87314   70.55843\n",
       "27219  28.87268   70.55751\n",
       "27220  28.87222   70.55656\n",
       "...         ...        ...\n",
       "28862  27.69209   68.98846\n",
       "28863  27.69136   68.98782\n",
       "28864  27.69038   68.98695\n",
       "28865  27.68966   68.98631\n",
       "28902  27.66309   68.94477\n",
       "\n",
       "[544 rows x 2 columns]"
      ]
     },
     "execution_count": 12,
     "metadata": {},
     "output_type": "execute_result"
    }
   ],
   "source": [
    "over_speeding_location"
   ]
  },
  {
   "cell_type": "code",
   "execution_count": 13,
   "id": "c7cd711b",
   "metadata": {},
   "outputs": [
    {
     "data": {
      "text/plain": [
       "Index([27197, 27217, 27218, 27219, 27220, 27221, 27222, 27223, 27224, 27225,\n",
       "       ...\n",
       "       28841, 28842, 28847, 28860, 28861, 28862, 28863, 28864, 28865, 28902],\n",
       "      dtype='int64', length=544)"
      ]
     },
     "execution_count": 13,
     "metadata": {},
     "output_type": "execute_result"
    }
   ],
   "source": [
    "points = over_speeding_location.index\n",
    "points"
   ]
  },
  {
   "cell_type": "markdown",
   "id": "152f3055",
   "metadata": {},
   "source": [
    "## Calculate the time intervals between over-speeding points"
   ]
  },
  {
   "cell_type": "code",
   "execution_count": 14,
   "id": "87f6913f",
   "metadata": {},
   "outputs": [],
   "source": [
    "distances = [points[i+1] - points[i] for i in range(len(points)-1)]"
   ]
  },
  {
   "cell_type": "code",
   "execution_count": 15,
   "id": "82e815db",
   "metadata": {},
   "outputs": [
    {
     "data": {
      "text/plain": [
       "[20, 1, 1, 1, 1, 1, 1, 1, 1, 1]"
      ]
     },
     "execution_count": 15,
     "metadata": {},
     "output_type": "execute_result"
    }
   ],
   "source": [
    "distances[:10]"
   ]
  },
  {
   "cell_type": "code",
   "execution_count": 16,
   "id": "4fc4b09e",
   "metadata": {},
   "outputs": [],
   "source": [
    "# pd.Series(points).diff().dropna().values.tolist()"
   ]
  },
  {
   "cell_type": "code",
   "execution_count": 17,
   "id": "a3d136bf",
   "metadata": {
    "scrolled": true
   },
   "outputs": [
    {
     "data": {
      "text/plain": [
       "[(0, 20),\n",
       " (1, 1),\n",
       " (2, 1),\n",
       " (3, 1),\n",
       " (4, 1),\n",
       " (5, 1),\n",
       " (6, 1),\n",
       " (7, 1),\n",
       " (8, 1),\n",
       " (9, 1),\n",
       " (10, 1),\n",
       " (11, 1),\n",
       " (12, 17),\n",
       " (13, 1),\n",
       " (14, 23)]"
      ]
     },
     "execution_count": 17,
     "metadata": {},
     "output_type": "execute_result"
    }
   ],
   "source": [
    "list(enumerate(distances))[:15]"
   ]
  },
  {
   "cell_type": "markdown",
   "id": "6dd566e2",
   "metadata": {},
   "source": [
    "## Filter locations where over-speeding occurred continuously"
   ]
  },
  {
   "cell_type": "code",
   "execution_count": 18,
   "id": "0409395c",
   "metadata": {},
   "outputs": [],
   "source": [
    "final_lst = []\n",
    "lst = []\n",
    "\n",
    "for ind,i in list(enumerate(distances)):\n",
    "    if i == 1:\n",
    "        lst.append(ind)\n",
    "    else:\n",
    "        final_lst.append(lst)\n",
    "        lst = []"
   ]
  },
  {
   "cell_type": "code",
   "execution_count": 19,
   "id": "2a1dafcc",
   "metadata": {},
   "outputs": [],
   "source": [
    "#final_lst"
   ]
  },
  {
   "cell_type": "code",
   "execution_count": 20,
   "id": "ce6b4e00",
   "metadata": {},
   "outputs": [],
   "source": [
    "final_lst = [i for i in final_lst if len(i) > 5]"
   ]
  },
  {
   "cell_type": "code",
   "execution_count": 21,
   "id": "40c3d495",
   "metadata": {},
   "outputs": [
    {
     "data": {
      "text/plain": [
       "[[1, 2, 3, 4, 5, 6, 7, 8, 9, 10, 11],\n",
       " [20, 21, 22, 23, 24, 25, 26, 27, 28],\n",
       " [46, 47, 48, 49, 50, 51, 52]]"
      ]
     },
     "execution_count": 21,
     "metadata": {},
     "output_type": "execute_result"
    }
   ],
   "source": [
    "final_lst[:3]"
   ]
  },
  {
   "cell_type": "code",
   "execution_count": 22,
   "id": "de520e0d",
   "metadata": {},
   "outputs": [],
   "source": [
    "ovs = over_speeding_location.iloc[final_lst[0]]"
   ]
  },
  {
   "cell_type": "markdown",
   "id": "b0250e04",
   "metadata": {},
   "source": [
    "## Interactive Map Visualization of Trip and Over-Speeding\n",
    "\n",
    "### Description:\n",
    "\n",
    "**This code creates an interactive map using Folium to visualize a trip's route and over-speeding segments. It includes the following key elements:**\n",
    "\n",
    "- Trip route displayed using AntPath with custom popups.\n",
    "\n",
    "- Start and end markers with informative popups.\n",
    "\n",
    "- Continuous over-speeding segments highlighted with AntPath and custom popups.\n",
    "\n",
    "- Multiple map tile layers for customization.\n",
    "\n",
    "- A Layer Control for managing map layers."
   ]
  },
  {
   "cell_type": "code",
   "execution_count": 23,
   "id": "a687a07c",
   "metadata": {},
   "outputs": [],
   "source": [
    "my_Map = folium.Map([Latitude[0],Longitude[0]])\n",
    "\n",
    "layer1 = folium.GeoJson(\n",
    "    data = (open(\"pakistan.geojson\",\"r\").read()),\n",
    "    name=\"Pakistan\")\n",
    "\n",
    "layer1.add_to(my_Map)\n",
    "\n",
    "AntPath(trip_route.values, delay = 1000, dash_array = [15,30], color = \"black\", \n",
    "        pulse_color = \"yellow\", weight = 5, opacity = 0.9, tooltip = \"<b>Home to Office</b>\",\n",
    "       popup = folium.Popup(\"\"\"\n",
    "       <img src=\"https://techmazone.com/assets/images/logo-v3.png\" width=\"150\"/>\n",
    "       <center><a href=\"https://techmazone.com\">Techma Zone Website</a></center>\n",
    "       \"\"\"\n",
    "       )).add_to(my_Map)\n",
    "\n",
    "folium.Marker([Latitude[0],Longitude[0]], popup=\"Home\",\n",
    "             icon = folium.Icon(color = \"green\", icon = \"glyphicon glyphicon-home\")).add_to(my_Map)\n",
    "\n",
    "folium.Marker([Latitude[-1],Longitude[-1]], popup=\"\"\"\n",
    "            <img src=\"https://techmazone.com/assets/images/logo-v3.png\" width=\"150\"/>\n",
    "           <center><a href=\"https://techmazone.com\">Techma Zone Website</a></center>\n",
    "            \"\"\",\n",
    "             icon = folium.Icon(color = \"blue\", icon = \"glyphicon glyphicon-briefcase\")).add_to(my_Map)\n",
    "\n",
    "#overspeeding\n",
    "\n",
    "for i in range(len(final_lst)):\n",
    "    ovs = over_speeding_location.iloc[final_lst[i]]\n",
    "    AntPath(ovs.values, delay = 300, dash_array = [15,30], color = \"red\", \n",
    "            pulse_color = \"yellow\", weight = 7, opacity = 1, tooltip = \"<b>Home to Office</b>\",\n",
    "           popup = folium.Popup(\"\"\"\n",
    "           <img src=\"https://techmazone.com/assets/images/logo-v3.png\" width=\"150\"/>\n",
    "           <center><a href=\"https://techmazone.com\">Techma Zone Website</a></center>\n",
    "           \"\"\"\n",
    "           )).add_to(my_Map)\n",
    "\n",
    "    \n",
    "# add tile layers\n",
    "folium.TileLayer('openstreetmap').add_to(my_Map)\n",
    "folium.TileLayer('stamenterrain', attr=\"stamenterrain\").add_to(my_Map)\n",
    "folium.TileLayer('stamenwatercolor', attr=\"stamenwatercolor\").add_to(my_Map)\n",
    "folium.TileLayer('https://{s}.basemaps.cartocdn.com/dark_all/{z}/{x}/{y}{r}.png', \n",
    " name='CartoDB.DarkMatter', attr=\"CartoDB.DarkMatter\").add_to(my_Map)\n",
    "folium.TileLayer('https://tile.openstreetmap.bzh/br/{z}/{x}/{y}.png', \n",
    " name='OpenStreetMap.BZH', attr=\"OpenStreetMap.BZH\").add_to(my_Map)\n",
    "\n",
    "\n",
    "\n",
    "folium.LayerControl().add_to(my_Map)\n",
    "\n",
    "my_Map.save(\"Live_tracking_trip_system.html\")"
   ]
  }
 ],
 "metadata": {
  "kernelspec": {
   "display_name": "Python 3 (ipykernel)",
   "language": "python",
   "name": "python3"
  },
  "language_info": {
   "codemirror_mode": {
    "name": "ipython",
    "version": 3
   },
   "file_extension": ".py",
   "mimetype": "text/x-python",
   "name": "python",
   "nbconvert_exporter": "python",
   "pygments_lexer": "ipython3",
   "version": "3.11.5"
  }
 },
 "nbformat": 4,
 "nbformat_minor": 5
}
